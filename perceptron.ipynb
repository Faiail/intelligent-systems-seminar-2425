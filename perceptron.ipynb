{
 "cells": [
  {
   "cell_type": "markdown",
   "id": "8b674543",
   "metadata": {},
   "source": [
    "# PERCEPTRON CLASSIFIER"
   ]
  },
  {
   "cell_type": "code",
   "execution_count": 1,
   "id": "5c996be3",
   "metadata": {},
   "outputs": [
    {
     "name": "stdout",
     "output_type": "stream",
     "text": [
      "Requirement already satisfied: torch in ./.venv/lib/python3.12/site-packages (2.7.0)\n",
      "Requirement already satisfied: torchvision in ./.venv/lib/python3.12/site-packages (0.22.0)\n",
      "Requirement already satisfied: scikit-learn in ./.venv/lib/python3.12/site-packages (1.6.1)\n",
      "Requirement already satisfied: filelock in ./.venv/lib/python3.12/site-packages (from torch) (3.18.0)\n",
      "Requirement already satisfied: typing-extensions>=4.10.0 in ./.venv/lib/python3.12/site-packages (from torch) (4.13.2)\n",
      "Requirement already satisfied: setuptools in ./.venv/lib/python3.12/site-packages (from torch) (80.4.0)\n",
      "Requirement already satisfied: sympy>=1.13.3 in ./.venv/lib/python3.12/site-packages (from torch) (1.14.0)\n",
      "Requirement already satisfied: networkx in ./.venv/lib/python3.12/site-packages (from torch) (3.4.2)\n",
      "Requirement already satisfied: jinja2 in ./.venv/lib/python3.12/site-packages (from torch) (3.1.6)\n",
      "Requirement already satisfied: fsspec in ./.venv/lib/python3.12/site-packages (from torch) (2025.3.2)\n",
      "Requirement already satisfied: nvidia-cuda-nvrtc-cu12==12.6.77 in ./.venv/lib/python3.12/site-packages (from torch) (12.6.77)\n",
      "Requirement already satisfied: nvidia-cuda-runtime-cu12==12.6.77 in ./.venv/lib/python3.12/site-packages (from torch) (12.6.77)\n",
      "Requirement already satisfied: nvidia-cuda-cupti-cu12==12.6.80 in ./.venv/lib/python3.12/site-packages (from torch) (12.6.80)\n",
      "Requirement already satisfied: nvidia-cudnn-cu12==9.5.1.17 in ./.venv/lib/python3.12/site-packages (from torch) (9.5.1.17)\n",
      "Requirement already satisfied: nvidia-cublas-cu12==12.6.4.1 in ./.venv/lib/python3.12/site-packages (from torch) (12.6.4.1)\n",
      "Requirement already satisfied: nvidia-cufft-cu12==11.3.0.4 in ./.venv/lib/python3.12/site-packages (from torch) (11.3.0.4)\n",
      "Requirement already satisfied: nvidia-curand-cu12==10.3.7.77 in ./.venv/lib/python3.12/site-packages (from torch) (10.3.7.77)\n",
      "Requirement already satisfied: nvidia-cusolver-cu12==11.7.1.2 in ./.venv/lib/python3.12/site-packages (from torch) (11.7.1.2)\n",
      "Requirement already satisfied: nvidia-cusparse-cu12==12.5.4.2 in ./.venv/lib/python3.12/site-packages (from torch) (12.5.4.2)\n",
      "Requirement already satisfied: nvidia-cusparselt-cu12==0.6.3 in ./.venv/lib/python3.12/site-packages (from torch) (0.6.3)\n",
      "Requirement already satisfied: nvidia-nccl-cu12==2.26.2 in ./.venv/lib/python3.12/site-packages (from torch) (2.26.2)\n",
      "Requirement already satisfied: nvidia-nvtx-cu12==12.6.77 in ./.venv/lib/python3.12/site-packages (from torch) (12.6.77)\n",
      "Requirement already satisfied: nvidia-nvjitlink-cu12==12.6.85 in ./.venv/lib/python3.12/site-packages (from torch) (12.6.85)\n",
      "Requirement already satisfied: nvidia-cufile-cu12==1.11.1.6 in ./.venv/lib/python3.12/site-packages (from torch) (1.11.1.6)\n",
      "Requirement already satisfied: triton==3.3.0 in ./.venv/lib/python3.12/site-packages (from torch) (3.3.0)\n",
      "Requirement already satisfied: numpy in ./.venv/lib/python3.12/site-packages (from torchvision) (2.2.5)\n",
      "Requirement already satisfied: pillow!=8.3.*,>=5.3.0 in ./.venv/lib/python3.12/site-packages (from torchvision) (11.2.1)\n",
      "Requirement already satisfied: scipy>=1.6.0 in ./.venv/lib/python3.12/site-packages (from scikit-learn) (1.15.3)\n",
      "Requirement already satisfied: joblib>=1.2.0 in ./.venv/lib/python3.12/site-packages (from scikit-learn) (1.5.0)\n",
      "Requirement already satisfied: threadpoolctl>=3.1.0 in ./.venv/lib/python3.12/site-packages (from scikit-learn) (3.6.0)\n",
      "Requirement already satisfied: mpmath<1.4,>=1.1.0 in ./.venv/lib/python3.12/site-packages (from sympy>=1.13.3->torch) (1.3.0)\n",
      "Requirement already satisfied: MarkupSafe>=2.0 in ./.venv/lib/python3.12/site-packages (from jinja2->torch) (3.0.2)\n"
     ]
    }
   ],
   "source": [
    "!pip install torch torchvision scikit-learn"
   ]
  },
  {
   "cell_type": "markdown",
   "id": "05fa7ce0",
   "metadata": {},
   "source": [
    "# Libraries import"
   ]
  },
  {
   "cell_type": "code",
   "execution_count": 2,
   "id": "43595355",
   "metadata": {},
   "outputs": [],
   "source": [
    "import torch\n",
    "import torch.nn as nn\n",
    "import torch.optim as optim\n",
    "from torch.utils.data import TensorDataset, DataLoader\n",
    "from sklearn.datasets import load_iris\n",
    "from sklearn.model_selection import train_test_split\n",
    "from sklearn.preprocessing import StandardScaler\n",
    "from sklearn.metrics import accuracy_score\n",
    "import random\n",
    "from torch.nn import Softmax"
   ]
  },
  {
   "cell_type": "markdown",
   "id": "23b041c3",
   "metadata": {},
   "source": [
    "# EXAMPLE: IRIS DATASET"
   ]
  },
  {
   "cell_type": "markdown",
   "id": "9022d078",
   "metadata": {},
   "source": [
    "![](https://upload.wikimedia.org/wikipedia/commons/4/41/Iris_versicolor_3.jpg)\n"
   ]
  },
  {
   "cell_type": "markdown",
   "id": "e50b38ec",
   "metadata": {},
   "source": [
    "Let's load the dataset from the Scikit learn hub!"
   ]
  },
  {
   "cell_type": "code",
   "execution_count": 3,
   "id": "82a72be5",
   "metadata": {},
   "outputs": [],
   "source": [
    "# Load the Iris dataset\n",
    "iris = load_iris()\n",
    "X_raw = iris.data\n",
    "y = iris.target"
   ]
  },
  {
   "cell_type": "code",
   "execution_count": 4,
   "id": "673b61e3",
   "metadata": {},
   "outputs": [
    {
     "data": {
      "text/plain": [
       "'.. _iris_dataset:\\n\\nIris plants dataset\\n--------------------\\n\\n**Data Set Characteristics:**\\n\\n:Number of Instances: 150 (50 in each of three classes)\\n:Number of Attributes: 4 numeric, predictive attributes and the class\\n:Attribute Information:\\n    - sepal length in cm\\n    - sepal width in cm\\n    - petal length in cm\\n    - petal width in cm\\n    - class:\\n            - Iris-Setosa\\n            - Iris-Versicolour\\n            - Iris-Virginica\\n\\n:Summary Statistics:\\n\\n============== ==== ==== ======= ===== ====================\\n                Min  Max   Mean    SD   Class Correlation\\n============== ==== ==== ======= ===== ====================\\nsepal length:   4.3  7.9   5.84   0.83    0.7826\\nsepal width:    2.0  4.4   3.05   0.43   -0.4194\\npetal length:   1.0  6.9   3.76   1.76    0.9490  (high!)\\npetal width:    0.1  2.5   1.20   0.76    0.9565  (high!)\\n============== ==== ==== ======= ===== ====================\\n\\n:Missing Attribute Values: None\\n:Class Distribution: 33.3% for each of 3 classes.\\n:Creator: R.A. Fisher\\n:Donor: Michael Marshall (MARSHALL%PLU@io.arc.nasa.gov)\\n:Date: July, 1988\\n\\nThe famous Iris database, first used by Sir R.A. Fisher. The dataset is taken\\nfrom Fisher\\'s paper. Note that it\\'s the same as in R, but not as in the UCI\\nMachine Learning Repository, which has two wrong data points.\\n\\nThis is perhaps the best known database to be found in the\\npattern recognition literature.  Fisher\\'s paper is a classic in the field and\\nis referenced frequently to this day.  (See Duda & Hart, for example.)  The\\ndata set contains 3 classes of 50 instances each, where each class refers to a\\ntype of iris plant.  One class is linearly separable from the other 2; the\\nlatter are NOT linearly separable from each other.\\n\\n.. dropdown:: References\\n\\n  - Fisher, R.A. \"The use of multiple measurements in taxonomic problems\"\\n    Annual Eugenics, 7, Part II, 179-188 (1936); also in \"Contributions to\\n    Mathematical Statistics\" (John Wiley, NY, 1950).\\n  - Duda, R.O., & Hart, P.E. (1973) Pattern Classification and Scene Analysis.\\n    (Q327.D83) John Wiley & Sons.  ISBN 0-471-22361-1.  See page 218.\\n  - Dasarathy, B.V. (1980) \"Nosing Around the Neighborhood: A New System\\n    Structure and Classification Rule for Recognition in Partially Exposed\\n    Environments\".  IEEE Transactions on Pattern Analysis and Machine\\n    Intelligence, Vol. PAMI-2, No. 1, 67-71.\\n  - Gates, G.W. (1972) \"The Reduced Nearest Neighbor Rule\".  IEEE Transactions\\n    on Information Theory, May 1972, 431-433.\\n  - See also: 1988 MLC Proceedings, 54-64.  Cheeseman et al\"s AUTOCLASS II\\n    conceptual clustering system finds 3 classes in the data.\\n  - Many, many more ...\\n'"
      ]
     },
     "execution_count": 4,
     "metadata": {},
     "output_type": "execute_result"
    }
   ],
   "source": [
    "iris[\"DESCR\"]"
   ]
  },
  {
   "cell_type": "markdown",
   "id": "315f8fa9",
   "metadata": {},
   "source": [
    "For example..."
   ]
  },
  {
   "cell_type": "code",
   "execution_count": 5,
   "id": "d64c4bba",
   "metadata": {},
   "outputs": [
    {
     "data": {
      "text/plain": [
       "(array([5.1, 3.5, 1.4, 0.2]), np.int64(0))"
      ]
     },
     "execution_count": 5,
     "metadata": {},
     "output_type": "execute_result"
    }
   ],
   "source": [
    "X_raw[0], y[0]"
   ]
  },
  {
   "cell_type": "code",
   "execution_count": 6,
   "id": "25fe43fe",
   "metadata": {},
   "outputs": [
    {
     "name": "stdout",
     "output_type": "stream",
     "text": [
      "Sepal length (cm): 5.1, Sepal width (cm): 3.5, Petal length (cm): 1.4, Petal width (cm): 0.2\n",
      "Target: setosa\n"
     ]
    }
   ],
   "source": [
    "feature_names = iris[\"feature_names\"]\n",
    "target_names = iris[\"target_names\"]\n",
    "example = X_raw[0].tolist()\n",
    "example_gt = y[0]\n",
    "for ix, val in enumerate(example):\n",
    "    print(f\"{feature_names[ix].capitalize()}: {val}\", end = \", \" if ix != len(feature_names) - 1 else \"\\n\")\n",
    "print(f\"Target: {target_names[example_gt]}\")"
   ]
  },
  {
   "cell_type": "markdown",
   "id": "543a0bc0",
   "metadata": {},
   "source": [
    "## PREPROCESSING"
   ]
  },
  {
   "cell_type": "code",
   "execution_count": 7,
   "id": "5f0053a0",
   "metadata": {},
   "outputs": [],
   "source": [
    "# Standardize the features\n",
    "scaler = StandardScaler()\n",
    "X = scaler.fit_transform(X_raw)\n",
    "\n",
    "# Convert to PyTorch tensors\n",
    "X = torch.tensor(X, dtype=torch.float32)\n",
    "y = torch.tensor(y, dtype=torch.long)"
   ]
  },
  {
   "cell_type": "markdown",
   "id": "bf5f9104",
   "metadata": {},
   "source": [
    "## DATASET SPLITTING"
   ]
  },
  {
   "cell_type": "code",
   "execution_count": 8,
   "id": "87afe5c0",
   "metadata": {},
   "outputs": [],
   "source": [
    "# Train-test split\n",
    "X_train, X_val, y_train, y_val = train_test_split(X, y, test_size=0.2, random_state=42)"
   ]
  },
  {
   "cell_type": "markdown",
   "id": "381574d9",
   "metadata": {},
   "source": [
    "## SETTING THE TORCH DATASET"
   ]
  },
  {
   "cell_type": "code",
   "execution_count": 9,
   "id": "3b2c678b",
   "metadata": {},
   "outputs": [],
   "source": [
    "# Create DataLoaders with minibatching\n",
    "batch_size = 16\n",
    "\n",
    "train_dataset = TensorDataset(X_train, y_train)\n",
    "train_loader = DataLoader(train_dataset, batch_size=batch_size, shuffle=True)\n",
    "\n",
    "val_dataset = TensorDataset(X_val, y_val)\n",
    "val_loader = DataLoader(val_dataset, batch_size=batch_size, shuffle=False)"
   ]
  },
  {
   "cell_type": "markdown",
   "id": "e9313999",
   "metadata": {},
   "source": [
    "## SET THE CLASSIFIER"
   ]
  },
  {
   "cell_type": "code",
   "execution_count": 10,
   "id": "a8da10b4",
   "metadata": {},
   "outputs": [],
   "source": [
    "# Define the single-layer classifier\n",
    "class IrisClassifier(nn.Module):\n",
    "    def __init__(self):\n",
    "        super(IrisClassifier, self).__init__()\n",
    "        self.fc = nn.Linear(4, 3) # input features -> output classes\n",
    "\n",
    "    def forward(self, x):\n",
    "        return self.fc(x)"
   ]
  },
  {
   "cell_type": "markdown",
   "id": "1c9b2610",
   "metadata": {},
   "source": [
    "# START THE TRAINING"
   ]
  },
  {
   "cell_type": "code",
   "execution_count": 11,
   "id": "de963d3f",
   "metadata": {},
   "outputs": [
    {
     "name": "stdout",
     "output_type": "stream",
     "text": [
      "Epoch [10/100], Loss: 3.0372, Val Accuracy: 0.93\n",
      "Epoch [20/100], Loss: 2.2570, Val Accuracy: 0.97\n",
      "Epoch [30/100], Loss: 1.8357, Val Accuracy: 0.97\n",
      "Epoch [40/100], Loss: 1.5723, Val Accuracy: 1.00\n",
      "Epoch [50/100], Loss: 1.3674, Val Accuracy: 1.00\n",
      "Epoch [60/100], Loss: 1.2147, Val Accuracy: 1.00\n",
      "Epoch [70/100], Loss: 1.0864, Val Accuracy: 1.00\n",
      "Epoch [80/100], Loss: 1.0325, Val Accuracy: 1.00\n",
      "Epoch [90/100], Loss: 0.9256, Val Accuracy: 1.00\n",
      "Epoch [100/100], Loss: 0.9033, Val Accuracy: 1.00\n"
     ]
    }
   ],
   "source": [
    "# Initialize model, loss function, and optimizer\n",
    "model = IrisClassifier()\n",
    "criterion = nn.CrossEntropyLoss()\n",
    "optimizer = optim.Adam(model.parameters(), lr=0.01)\n",
    "\n",
    "# Training loop with minibatching\n",
    "num_epochs = 100\n",
    "for epoch in range(num_epochs):\n",
    "    model.train()\n",
    "    running_loss = 0.0\n",
    "    for batch_X, batch_y in train_loader:\n",
    "        outputs = model(batch_X)\n",
    "        loss = criterion(outputs, batch_y)\n",
    "\n",
    "        optimizer.zero_grad()\n",
    "        loss.backward()\n",
    "        optimizer.step()\n",
    "\n",
    "        running_loss += loss.item()\n",
    "\n",
    "    # Validation accuracy\n",
    "    model.eval()\n",
    "    all_preds = []\n",
    "    all_labels = []\n",
    "    with torch.no_grad():\n",
    "        for val_X, val_y in val_loader:\n",
    "            val_outputs = model(val_X)\n",
    "            _, predicted = torch.max(val_outputs, 1)\n",
    "            all_preds.extend(predicted.tolist())\n",
    "            all_labels.extend(val_y.tolist())\n",
    "    val_acc = accuracy_score(all_labels, all_preds)\n",
    "\n",
    "    if (epoch + 1) % 10 == 0:\n",
    "        print(f\"Epoch [{epoch+1}/{num_epochs}], Loss: {running_loss:.4f}, Val Accuracy: {val_acc:.2f}\")\n"
   ]
  },
  {
   "cell_type": "markdown",
   "id": "64a4f3a2",
   "metadata": {},
   "source": [
    "## TESTING THE MODEL"
   ]
  },
  {
   "cell_type": "code",
   "execution_count": 12,
   "id": "9b02ae7a",
   "metadata": {},
   "outputs": [
    {
     "data": {
      "text/plain": [
       "'Testing val data point n.4'"
      ]
     },
     "execution_count": 12,
     "metadata": {},
     "output_type": "execute_result"
    }
   ],
   "source": [
    "test_id = random.randint(0, len(val_dataset))\n",
    "f\"Testing val data point n.{test_id}\""
   ]
  },
  {
   "cell_type": "code",
   "execution_count": 13,
   "id": "75cc8f27",
   "metadata": {},
   "outputs": [
    {
     "name": "stdout",
     "output_type": "stream",
     "text": [
      "Features: tensor([[ 1.1592, -0.5924,  0.5922,  0.2641]]), gt: 1\n"
     ]
    }
   ],
   "source": [
    "features = X_val[test_id].unsqueeze(dim=0)\n",
    "gt = y_val[test_id]\n",
    "print(f\"Features: {features}, gt: {gt}\")"
   ]
  },
  {
   "cell_type": "code",
   "execution_count": 14,
   "id": "ad8d0974",
   "metadata": {},
   "outputs": [
    {
     "data": {
      "text/plain": [
       "tensor(1)"
      ]
     },
     "execution_count": 14,
     "metadata": {},
     "output_type": "execute_result"
    }
   ],
   "source": [
    "with torch.no_grad():\n",
    "    output = model(features)\n",
    "output\n",
    "\n",
    "output.argmax()"
   ]
  },
  {
   "cell_type": "code",
   "execution_count": 15,
   "id": "4682da1b",
   "metadata": {},
   "outputs": [
    {
     "data": {
      "text/plain": [
       "tensor([[2.3230e-04, 8.1010e-01, 1.8966e-01]])"
      ]
     },
     "execution_count": 15,
     "metadata": {},
     "output_type": "execute_result"
    }
   ],
   "source": [
    "reg_out = Softmax(dim=-1)(output)\n",
    "reg_out"
   ]
  },
  {
   "cell_type": "code",
   "execution_count": 16,
   "id": "06e1c378",
   "metadata": {},
   "outputs": [
    {
     "data": {
      "text/plain": [
       "tensor(1)"
      ]
     },
     "execution_count": 16,
     "metadata": {},
     "output_type": "execute_result"
    }
   ],
   "source": [
    "output.argmax()"
   ]
  },
  {
   "cell_type": "code",
   "execution_count": 17,
   "id": "e37809be",
   "metadata": {},
   "outputs": [
    {
     "data": {
      "text/plain": [
       "'How is classified a data point with 6.80: sepal length (cm), 2.80: sepal width (cm), 4.80: petal length (cm), 1.40: petal width (cm)? Classification: versicolor with prob. of 81.01%'"
      ]
     },
     "execution_count": 17,
     "metadata": {},
     "output_type": "execute_result"
    }
   ],
   "source": [
    "raw_features = scaler.inverse_transform(features.numpy())[0].tolist()\n",
    "feature_information = \", \".join([f\"{k:.2f}: {v}\" for (k, v) in zip(raw_features, feature_names)])\n",
    "f\"How is classified a data point with {feature_information}? Classification: {target_names[output.argmax().item()]} with prob. of {reg_out.squeeze()[output.argmax().item()]*100:.2f}%\""
   ]
  },
  {
   "cell_type": "code",
   "execution_count": 18,
   "id": "4e4fb90e",
   "metadata": {},
   "outputs": [
    {
     "data": {
      "text/plain": [
       "'Is it a correctly classified example? Yes'"
      ]
     },
     "execution_count": 18,
     "metadata": {},
     "output_type": "execute_result"
    }
   ],
   "source": [
    "f\"Is it a correctly classified example? {'Yes' if output.argmax().item() == gt else 'No'}\""
   ]
  },
  {
   "cell_type": "code",
   "execution_count": null,
   "id": "284a1e53",
   "metadata": {},
   "outputs": [],
   "source": []
  }
 ],
 "metadata": {
  "kernelspec": {
   "display_name": ".venv",
   "language": "python",
   "name": "python3"
  },
  "language_info": {
   "codemirror_mode": {
    "name": "ipython",
    "version": 3
   },
   "file_extension": ".py",
   "mimetype": "text/x-python",
   "name": "python",
   "nbconvert_exporter": "python",
   "pygments_lexer": "ipython3",
   "version": "3.12.3"
  }
 },
 "nbformat": 4,
 "nbformat_minor": 5
}
